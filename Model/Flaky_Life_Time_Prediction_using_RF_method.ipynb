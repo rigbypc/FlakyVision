{
  "nbformat": 4,
  "nbformat_minor": 0,
  "metadata": {
    "colab": {
      "provenance": [],
      "collapsed_sections": [
        "XWVbtbpmqwZz"
      ],
      "machine_shape": "hm"
    },
    "kernelspec": {
      "name": "python3",
      "display_name": "Python 3"
    },
    "language_info": {
      "name": "python"
    }
  },
  "cells": [
    {
      "cell_type": "markdown",
      "source": [
        "# Importing Libraries\n"
      ],
      "metadata": {
        "id": "rWVW4_gu8xK6"
      }
    },
    {
      "cell_type": "code",
      "execution_count": null,
      "metadata": {
        "id": "emhmps4CFY8n"
      },
      "outputs": [],
      "source": [
        "import pandas as pd\n",
        "from numpy import mean\n",
        "from sklearn import set_config\n",
        "from google.colab import drive\n",
        "from imblearn.pipeline import Pipeline\n",
        "from imblearn.over_sampling import SMOTE\n",
        "from sklearn.compose import ColumnTransformer\n",
        "from sklearn.ensemble import RandomForestClassifier\n",
        "from sklearn.feature_selection import SelectKBest, chi2\n",
        "from sklearn.base import TransformerMixin, BaseEstimator\n",
        "from imblearn.ensemble import BalancedRandomForestClassifier\n",
        "from sklearn.feature_extraction.text import TfidfVectorizer, CountVectorizer\n",
        "from sklearn.preprocessing import OneHotEncoder, KBinsDiscretizer, Binarizer\n",
        "from sklearn.model_selection import cross_validate, GridSearchCV, RandomizedSearchCV\n",
        "from sklearn.metrics import precision_score, recall_score, f1_score, matthews_corrcoef, r2_score\n",
        "set_config(display=\"diagram\")"
      ]
    },
    {
      "cell_type": "markdown",
      "source": [
        "# Read and Prepare Data"
      ],
      "metadata": {
        "id": "bk_cj_rW8uhj"
      }
    },
    {
      "cell_type": "code",
      "source": [
        "drive.mount('/content/drive')"
      ],
      "metadata": {
        "colab": {
          "base_uri": "https://localhost:8080/"
        },
        "id": "k3I2DLM08pHS",
        "outputId": "fef528ca-0787-490a-9efb-b4cd54dd11bb"
      },
      "execution_count": null,
      "outputs": [
        {
          "output_type": "stream",
          "name": "stdout",
          "text": [
            "Mounted at /content/drive\n"
          ]
        }
      ]
    },
    {
      "cell_type": "code",
      "source": [
        "life_time_df = pd.read_csv('/content/drive/MyDrive/Thesis/Life_time_full_log.csv')\n",
        "\n",
        "# Replace email-like values with just the name\n",
        "life_time_df['Author'] = life_time_df['Author'].str.extract(r'(.+?)\\s+<.+?>', expand=False)"
      ],
      "metadata": {
        "id": "yKhk76QxvvcZ"
      },
      "execution_count": null,
      "outputs": []
    },
    {
      "cell_type": "markdown",
      "source": [
        "# Quick 15: Tests Fixed within 15 Days"
      ],
      "metadata": {
        "id": "RfQSE5JDvc2e"
      }
    },
    {
      "cell_type": "code",
      "source": [
        "#, usecols=['Description', 'Life_Time']\n",
        "#life_time_df = pd.read_csv('/content/drive/MyDrive/Thesis/Life_time_full_log_2023.csv', usecols=['Description', 'Life_Time'])\n",
        "\n",
        "# Remove records with NaN or -1 values in the 'Life_Time' column aka tests that never got fixed\n",
        "# life_time_df = data[data['Life_Time'].notna() & (data['Life_Time'] != -1)]\n",
        "\n",
        "life_time_df['label'] = 0\n",
        "for i in range(len(life_time_df)):\n",
        "    if -1 < life_time_df.iloc[i].Life_Time <= 15:\n",
        "        life_time_df['label'].iloc[i] = 1"
      ],
      "metadata": {
        "id": "GH0pJJvvGEtu",
        "colab": {
          "base_uri": "https://localhost:8080/"
        },
        "outputId": "a5b2b64e-e372-49f3-fac8-6f8e6507e793"
      },
      "execution_count": null,
      "outputs": [
        {
          "output_type": "stream",
          "name": "stderr",
          "text": [
            "<ipython-input-4-5b5b69691920>:10: SettingWithCopyWarning: \n",
            "A value is trying to be set on a copy of a slice from a DataFrame\n",
            "\n",
            "See the caveats in the documentation: https://pandas.pydata.org/pandas-docs/stable/user_guide/indexing.html#returning-a-view-versus-a-copy\n",
            "  life_time_df['label'].iloc[i] = 1\n"
          ]
        }
      ]
    },
    {
      "cell_type": "markdown",
      "source": [
        "# Quick 10: Tests Fixed within 10 Days"
      ],
      "metadata": {
        "id": "LhHUGc77voJv"
      }
    },
    {
      "cell_type": "code",
      "source": [
        "life_time_df['label'] = 0\n",
        "for i in range(len(life_time_df)):\n",
        "    if -1 < life_time_df.iloc[i].Life_Time <= 10:\n",
        "        life_time_df['label'].iloc[i] = 1"
      ],
      "metadata": {
        "colab": {
          "base_uri": "https://localhost:8080/"
        },
        "id": "51gfWMmJvsAe",
        "outputId": "21b24976-f7a5-463b-8122-e171b467b386"
      },
      "execution_count": null,
      "outputs": [
        {
          "output_type": "stream",
          "name": "stderr",
          "text": [
            "<ipython-input-6-52616bcdcb1b>:4: SettingWithCopyWarning: \n",
            "A value is trying to be set on a copy of a slice from a DataFrame\n",
            "\n",
            "See the caveats in the documentation: https://pandas.pydata.org/pandas-docs/stable/user_guide/indexing.html#returning-a-view-versus-a-copy\n",
            "  life_time_df['label'].iloc[i] = 1\n"
          ]
        }
      ]
    },
    {
      "cell_type": "code",
      "source": [
        "print(0.8 * len(life_time_df))\n",
        "test_start_index  = round(0.8 * len(life_time_df))\n",
        "dataTrain = life_time_df.iloc[0:test_start_index]\n",
        "dataTest = life_time_df.iloc[test_start_index:]\n",
        "\n",
        "\n",
        "dataTrain.head(3)"
      ],
      "metadata": {
        "colab": {
          "base_uri": "https://localhost:8080/",
          "height": 354
        },
        "id": "oLv1vaCBv81Z",
        "outputId": "2ba8079f-a6de-4874-896a-445c03d7e134"
      },
      "execution_count": null,
      "outputs": [
        {
          "output_type": "stream",
          "name": "stdout",
          "text": [
            "35397.6\n"
          ]
        },
        {
          "output_type": "execute_result",
          "data": {
            "text/plain": [
              "   Unnamed: 0.1  Unnamed: 0                                 Commit_hash  \\\n",
              "0         82961       82961  77578ccb4082ae20a9326d9e673225f1189ebb63\\n   \n",
              "1         82960       82960  77578ccb4082ae20a9326d9e673225f1189ebb63\\n   \n",
              "2         82959       82959  77578ccb4082ae20a9326d9e673225f1189ebb63\\n   \n",
              "\n",
              "        Author        Date                                        Description  \\\n",
              "0  Kent Tamura  2018-11-25  \\n     The Great Blink mv for LayoutTests\\n   ...   \n",
              "1  Kent Tamura  2018-11-25  \\n     The Great Blink mv for LayoutTests\\n   ...   \n",
              "2  Kent Tamura  2018-11-25  \\n     The Great Blink mv for LayoutTests\\n   ...   \n",
              "\n",
              "     Bug_Id                                     Change_Id  \\\n",
              "0  843412\\n  Ibb588b93d1579bcd1cb68df0a50efd8653f8724f\\n    \n",
              "1  843412\\n  Ibb588b93d1579bcd1cb68df0a50efd8653f8724f\\n    \n",
              "2  843412\\n  Ibb588b93d1579bcd1cb68df0a50efd8653f8724f\\n    \n",
              "\n",
              "                                         Reviewed-on  \\\n",
              "0  https://chromium-review.googlesource.com/c/132...   \n",
              "1  https://chromium-review.googlesource.com/c/132...   \n",
              "2  https://chromium-review.googlesource.com/c/132...   \n",
              "\n",
              "                                                Test   Expectation  \\\n",
              "0   virtual/site-isolated-code-cache/http/tests/d...  failure pass   \n",
              "1   virtual/not-site-per-process/http/tests/devto...  failure pass   \n",
              "2  virtual/mouseevent_fractional/fast/events/midd...          skip   \n",
              "\n",
              "   Build_type Action  Life_Time  label  \n",
              "0   Mac10.13     add         82      0  \n",
              "1   Mac10.13     add         66      0  \n",
              "2         NaN    add        432      0  "
            ],
            "text/html": [
              "\n",
              "  <div id=\"df-a8141c72-0be1-4a74-8307-10ae29ba4ce8\" class=\"colab-df-container\">\n",
              "    <div>\n",
              "<style scoped>\n",
              "    .dataframe tbody tr th:only-of-type {\n",
              "        vertical-align: middle;\n",
              "    }\n",
              "\n",
              "    .dataframe tbody tr th {\n",
              "        vertical-align: top;\n",
              "    }\n",
              "\n",
              "    .dataframe thead th {\n",
              "        text-align: right;\n",
              "    }\n",
              "</style>\n",
              "<table border=\"1\" class=\"dataframe\">\n",
              "  <thead>\n",
              "    <tr style=\"text-align: right;\">\n",
              "      <th></th>\n",
              "      <th>Unnamed: 0.1</th>\n",
              "      <th>Unnamed: 0</th>\n",
              "      <th>Commit_hash</th>\n",
              "      <th>Author</th>\n",
              "      <th>Date</th>\n",
              "      <th>Description</th>\n",
              "      <th>Bug_Id</th>\n",
              "      <th>Change_Id</th>\n",
              "      <th>Reviewed-on</th>\n",
              "      <th>Test</th>\n",
              "      <th>Expectation</th>\n",
              "      <th>Build_type</th>\n",
              "      <th>Action</th>\n",
              "      <th>Life_Time</th>\n",
              "      <th>label</th>\n",
              "    </tr>\n",
              "  </thead>\n",
              "  <tbody>\n",
              "    <tr>\n",
              "      <th>0</th>\n",
              "      <td>82961</td>\n",
              "      <td>82961</td>\n",
              "      <td>77578ccb4082ae20a9326d9e673225f1189ebb63\\n</td>\n",
              "      <td>Kent Tamura</td>\n",
              "      <td>2018-11-25</td>\n",
              "      <td>\\n     The Great Blink mv for LayoutTests\\n   ...</td>\n",
              "      <td>843412\\n</td>\n",
              "      <td>Ibb588b93d1579bcd1cb68df0a50efd8653f8724f\\n</td>\n",
              "      <td>https://chromium-review.googlesource.com/c/132...</td>\n",
              "      <td>virtual/site-isolated-code-cache/http/tests/d...</td>\n",
              "      <td>failure pass</td>\n",
              "      <td>Mac10.13</td>\n",
              "      <td>add</td>\n",
              "      <td>82</td>\n",
              "      <td>0</td>\n",
              "    </tr>\n",
              "    <tr>\n",
              "      <th>1</th>\n",
              "      <td>82960</td>\n",
              "      <td>82960</td>\n",
              "      <td>77578ccb4082ae20a9326d9e673225f1189ebb63\\n</td>\n",
              "      <td>Kent Tamura</td>\n",
              "      <td>2018-11-25</td>\n",
              "      <td>\\n     The Great Blink mv for LayoutTests\\n   ...</td>\n",
              "      <td>843412\\n</td>\n",
              "      <td>Ibb588b93d1579bcd1cb68df0a50efd8653f8724f\\n</td>\n",
              "      <td>https://chromium-review.googlesource.com/c/132...</td>\n",
              "      <td>virtual/not-site-per-process/http/tests/devto...</td>\n",
              "      <td>failure pass</td>\n",
              "      <td>Mac10.13</td>\n",
              "      <td>add</td>\n",
              "      <td>66</td>\n",
              "      <td>0</td>\n",
              "    </tr>\n",
              "    <tr>\n",
              "      <th>2</th>\n",
              "      <td>82959</td>\n",
              "      <td>82959</td>\n",
              "      <td>77578ccb4082ae20a9326d9e673225f1189ebb63\\n</td>\n",
              "      <td>Kent Tamura</td>\n",
              "      <td>2018-11-25</td>\n",
              "      <td>\\n     The Great Blink mv for LayoutTests\\n   ...</td>\n",
              "      <td>843412\\n</td>\n",
              "      <td>Ibb588b93d1579bcd1cb68df0a50efd8653f8724f\\n</td>\n",
              "      <td>https://chromium-review.googlesource.com/c/132...</td>\n",
              "      <td>virtual/mouseevent_fractional/fast/events/midd...</td>\n",
              "      <td>skip</td>\n",
              "      <td>NaN</td>\n",
              "      <td>add</td>\n",
              "      <td>432</td>\n",
              "      <td>0</td>\n",
              "    </tr>\n",
              "  </tbody>\n",
              "</table>\n",
              "</div>\n",
              "    <div class=\"colab-df-buttons\">\n",
              "\n",
              "  <div class=\"colab-df-container\">\n",
              "    <button class=\"colab-df-convert\" onclick=\"convertToInteractive('df-a8141c72-0be1-4a74-8307-10ae29ba4ce8')\"\n",
              "            title=\"Convert this dataframe to an interactive table.\"\n",
              "            style=\"display:none;\">\n",
              "\n",
              "  <svg xmlns=\"http://www.w3.org/2000/svg\" height=\"24px\" viewBox=\"0 -960 960 960\">\n",
              "    <path d=\"M120-120v-720h720v720H120Zm60-500h600v-160H180v160Zm220 220h160v-160H400v160Zm0 220h160v-160H400v160ZM180-400h160v-160H180v160Zm440 0h160v-160H620v160ZM180-180h160v-160H180v160Zm440 0h160v-160H620v160Z\"/>\n",
              "  </svg>\n",
              "    </button>\n",
              "\n",
              "  <style>\n",
              "    .colab-df-container {\n",
              "      display:flex;\n",
              "      gap: 12px;\n",
              "    }\n",
              "\n",
              "    .colab-df-convert {\n",
              "      background-color: #E8F0FE;\n",
              "      border: none;\n",
              "      border-radius: 50%;\n",
              "      cursor: pointer;\n",
              "      display: none;\n",
              "      fill: #1967D2;\n",
              "      height: 32px;\n",
              "      padding: 0 0 0 0;\n",
              "      width: 32px;\n",
              "    }\n",
              "\n",
              "    .colab-df-convert:hover {\n",
              "      background-color: #E2EBFA;\n",
              "      box-shadow: 0px 1px 2px rgba(60, 64, 67, 0.3), 0px 1px 3px 1px rgba(60, 64, 67, 0.15);\n",
              "      fill: #174EA6;\n",
              "    }\n",
              "\n",
              "    .colab-df-buttons div {\n",
              "      margin-bottom: 4px;\n",
              "    }\n",
              "\n",
              "    [theme=dark] .colab-df-convert {\n",
              "      background-color: #3B4455;\n",
              "      fill: #D2E3FC;\n",
              "    }\n",
              "\n",
              "    [theme=dark] .colab-df-convert:hover {\n",
              "      background-color: #434B5C;\n",
              "      box-shadow: 0px 1px 3px 1px rgba(0, 0, 0, 0.15);\n",
              "      filter: drop-shadow(0px 1px 2px rgba(0, 0, 0, 0.3));\n",
              "      fill: #FFFFFF;\n",
              "    }\n",
              "  </style>\n",
              "\n",
              "    <script>\n",
              "      const buttonEl =\n",
              "        document.querySelector('#df-a8141c72-0be1-4a74-8307-10ae29ba4ce8 button.colab-df-convert');\n",
              "      buttonEl.style.display =\n",
              "        google.colab.kernel.accessAllowed ? 'block' : 'none';\n",
              "\n",
              "      async function convertToInteractive(key) {\n",
              "        const element = document.querySelector('#df-a8141c72-0be1-4a74-8307-10ae29ba4ce8');\n",
              "        const dataTable =\n",
              "          await google.colab.kernel.invokeFunction('convertToInteractive',\n",
              "                                                    [key], {});\n",
              "        if (!dataTable) return;\n",
              "\n",
              "        const docLinkHtml = 'Like what you see? Visit the ' +\n",
              "          '<a target=\"_blank\" href=https://colab.research.google.com/notebooks/data_table.ipynb>data table notebook</a>'\n",
              "          + ' to learn more about interactive tables.';\n",
              "        element.innerHTML = '';\n",
              "        dataTable['output_type'] = 'display_data';\n",
              "        await google.colab.output.renderOutput(dataTable, element);\n",
              "        const docLink = document.createElement('div');\n",
              "        docLink.innerHTML = docLinkHtml;\n",
              "        element.appendChild(docLink);\n",
              "      }\n",
              "    </script>\n",
              "  </div>\n",
              "\n",
              "\n",
              "<div id=\"df-fd41a5ae-17f3-4624-a1f4-8407bb44e8d9\">\n",
              "  <button class=\"colab-df-quickchart\" onclick=\"quickchart('df-fd41a5ae-17f3-4624-a1f4-8407bb44e8d9')\"\n",
              "            title=\"Suggest charts\"\n",
              "            style=\"display:none;\">\n",
              "\n",
              "<svg xmlns=\"http://www.w3.org/2000/svg\" height=\"24px\"viewBox=\"0 0 24 24\"\n",
              "     width=\"24px\">\n",
              "    <g>\n",
              "        <path d=\"M19 3H5c-1.1 0-2 .9-2 2v14c0 1.1.9 2 2 2h14c1.1 0 2-.9 2-2V5c0-1.1-.9-2-2-2zM9 17H7v-7h2v7zm4 0h-2V7h2v10zm4 0h-2v-4h2v4z\"/>\n",
              "    </g>\n",
              "</svg>\n",
              "  </button>\n",
              "\n",
              "<style>\n",
              "  .colab-df-quickchart {\n",
              "      --bg-color: #E8F0FE;\n",
              "      --fill-color: #1967D2;\n",
              "      --hover-bg-color: #E2EBFA;\n",
              "      --hover-fill-color: #174EA6;\n",
              "      --disabled-fill-color: #AAA;\n",
              "      --disabled-bg-color: #DDD;\n",
              "  }\n",
              "\n",
              "  [theme=dark] .colab-df-quickchart {\n",
              "      --bg-color: #3B4455;\n",
              "      --fill-color: #D2E3FC;\n",
              "      --hover-bg-color: #434B5C;\n",
              "      --hover-fill-color: #FFFFFF;\n",
              "      --disabled-bg-color: #3B4455;\n",
              "      --disabled-fill-color: #666;\n",
              "  }\n",
              "\n",
              "  .colab-df-quickchart {\n",
              "    background-color: var(--bg-color);\n",
              "    border: none;\n",
              "    border-radius: 50%;\n",
              "    cursor: pointer;\n",
              "    display: none;\n",
              "    fill: var(--fill-color);\n",
              "    height: 32px;\n",
              "    padding: 0;\n",
              "    width: 32px;\n",
              "  }\n",
              "\n",
              "  .colab-df-quickchart:hover {\n",
              "    background-color: var(--hover-bg-color);\n",
              "    box-shadow: 0 1px 2px rgba(60, 64, 67, 0.3), 0 1px 3px 1px rgba(60, 64, 67, 0.15);\n",
              "    fill: var(--button-hover-fill-color);\n",
              "  }\n",
              "\n",
              "  .colab-df-quickchart-complete:disabled,\n",
              "  .colab-df-quickchart-complete:disabled:hover {\n",
              "    background-color: var(--disabled-bg-color);\n",
              "    fill: var(--disabled-fill-color);\n",
              "    box-shadow: none;\n",
              "  }\n",
              "\n",
              "  .colab-df-spinner {\n",
              "    border: 2px solid var(--fill-color);\n",
              "    border-color: transparent;\n",
              "    border-bottom-color: var(--fill-color);\n",
              "    animation:\n",
              "      spin 1s steps(1) infinite;\n",
              "  }\n",
              "\n",
              "  @keyframes spin {\n",
              "    0% {\n",
              "      border-color: transparent;\n",
              "      border-bottom-color: var(--fill-color);\n",
              "      border-left-color: var(--fill-color);\n",
              "    }\n",
              "    20% {\n",
              "      border-color: transparent;\n",
              "      border-left-color: var(--fill-color);\n",
              "      border-top-color: var(--fill-color);\n",
              "    }\n",
              "    30% {\n",
              "      border-color: transparent;\n",
              "      border-left-color: var(--fill-color);\n",
              "      border-top-color: var(--fill-color);\n",
              "      border-right-color: var(--fill-color);\n",
              "    }\n",
              "    40% {\n",
              "      border-color: transparent;\n",
              "      border-right-color: var(--fill-color);\n",
              "      border-top-color: var(--fill-color);\n",
              "    }\n",
              "    60% {\n",
              "      border-color: transparent;\n",
              "      border-right-color: var(--fill-color);\n",
              "    }\n",
              "    80% {\n",
              "      border-color: transparent;\n",
              "      border-right-color: var(--fill-color);\n",
              "      border-bottom-color: var(--fill-color);\n",
              "    }\n",
              "    90% {\n",
              "      border-color: transparent;\n",
              "      border-bottom-color: var(--fill-color);\n",
              "    }\n",
              "  }\n",
              "</style>\n",
              "\n",
              "  <script>\n",
              "    async function quickchart(key) {\n",
              "      const quickchartButtonEl =\n",
              "        document.querySelector('#' + key + ' button');\n",
              "      quickchartButtonEl.disabled = true;  // To prevent multiple clicks.\n",
              "      quickchartButtonEl.classList.add('colab-df-spinner');\n",
              "      try {\n",
              "        const charts = await google.colab.kernel.invokeFunction(\n",
              "            'suggestCharts', [key], {});\n",
              "      } catch (error) {\n",
              "        console.error('Error during call to suggestCharts:', error);\n",
              "      }\n",
              "      quickchartButtonEl.classList.remove('colab-df-spinner');\n",
              "      quickchartButtonEl.classList.add('colab-df-quickchart-complete');\n",
              "    }\n",
              "    (() => {\n",
              "      let quickchartButtonEl =\n",
              "        document.querySelector('#df-fd41a5ae-17f3-4624-a1f4-8407bb44e8d9 button');\n",
              "      quickchartButtonEl.style.display =\n",
              "        google.colab.kernel.accessAllowed ? 'block' : 'none';\n",
              "    })();\n",
              "  </script>\n",
              "</div>\n",
              "\n",
              "    </div>\n",
              "  </div>\n"
            ]
          },
          "metadata": {},
          "execution_count": 5
        }
      ]
    },
    {
      "cell_type": "code",
      "source": [
        "import warnings\n",
        "\n",
        "# Filter out the specific UserWarning\n",
        "warnings.filterwarnings(\"ignore\", category=UserWarning, module=\"sklearn.utils.parallel\")\n",
        "warnings.filterwarnings(\"ignore\", category=FutureWarning, module=\"sklearn.utils.deprecation\")"
      ],
      "metadata": {
        "id": "4uCuLrO3AAmM"
      },
      "execution_count": null,
      "outputs": []
    },
    {
      "cell_type": "code",
      "source": [
        "print(len(life_time_df[life_time_df['label'] == 0]))\n",
        "print(len(life_time_df[life_time_df['label'] == 1]))\n",
        "print(len(life_time_df[life_time_df['label'] == 1])/len(life_time_df))"
      ],
      "metadata": {
        "colab": {
          "base_uri": "https://localhost:8080/"
        },
        "id": "Uszmmf0OOx-y",
        "outputId": "3a656028-aa76-4b75-eae5-48ad883b860f"
      },
      "execution_count": null,
      "outputs": [
        {
          "output_type": "stream",
          "name": "stdout",
          "text": [
            "26130\n",
            "18117\n",
            "0.40945148823649063\n"
          ]
        }
      ]
    },
    {
      "cell_type": "code",
      "source": [
        "# Columns definition\n",
        "description_col = \"Description\"\n",
        "cat_cols = [\"Author\"] #[\"Author\", \"Build_type\"]\n",
        "expectation_col = \"Expectation\"\n",
        "other_cols = \"Expectation\"\n",
        "\n",
        "cols_trans = ColumnTransformer([\n",
        "    #('categories', OneHotEncoder(handle_unknown = \"ignore\"), cat_cols),\n",
        "    ('Description', CountVectorizer(max_features=400), description_col),\n",
        "    #('Expectation', CountVectorizer(max_features=10), expectation_col),\n",
        "], remainder='passthrough')\n",
        "\n",
        "X_train = dataTrain[[description_col]]\n",
        "X_test = dataTest[[description_col]]\n",
        "\n",
        "y_train = dataTrain[\"label\"]\n",
        "y_test = dataTest[\"label\"]"
      ],
      "metadata": {
        "id": "MTNZrwaeH2k_"
      },
      "execution_count": null,
      "outputs": []
    },
    {
      "cell_type": "code",
      "source": [
        "# Pipeline\n",
        "smote = SMOTE(sampling_strategy=0.8)\n",
        "featureSelection = SelectKBest(chi2, k=60)\n",
        "rfc = BalancedRandomForestClassifier(n_estimators=400, n_jobs=14, verbose=1)\n",
        "\n",
        "steps = [\n",
        "    ('trans', cols_trans),\n",
        "     #('fs', featureSelection),\n",
        "     ('s', smote),\n",
        "    ('m', rfc)\n",
        "]\n",
        "pipe = Pipeline(steps=steps)"
      ],
      "metadata": {
        "id": "mzGJU0DvFisW"
      },
      "execution_count": null,
      "outputs": []
    },
    {
      "cell_type": "code",
      "source": [
        "# Fit and test\n",
        "pipe.fit(X_train, y_train)\n",
        "y_pred = pipe.predict(X_test)\n",
        "\n",
        "# Scores\n",
        "precision = precision_score(y_test, y_pred)\n",
        "recall = recall_score(y_test, y_pred)\n",
        "mcc = matthews_corrcoef(y_test, y_pred)\n",
        "f1 = f1_score(y_test, y_pred)\n",
        "r2 = r2_score(y_test, y_pred)"
      ],
      "metadata": {
        "colab": {
          "base_uri": "https://localhost:8080/"
        },
        "id": "dcmACoSWzUIA",
        "outputId": "1bb9dcc6-5e2e-448f-e3dd-dd76c9adc8ca"
      },
      "execution_count": null,
      "outputs": [
        {
          "output_type": "stream",
          "name": "stderr",
          "text": [
            "[Parallel(n_jobs=14)]: Using backend ThreadingBackend with 14 concurrent workers.\n",
            "[Parallel(n_jobs=14)]: Done  22 tasks      | elapsed:    4.0s\n",
            "[Parallel(n_jobs=14)]: Done 172 tasks      | elapsed:   25.0s\n",
            "[Parallel(n_jobs=14)]: Done 400 out of 400 | elapsed:   55.8s finished\n",
            "[Parallel(n_jobs=14)]: Using backend ThreadingBackend with 14 concurrent workers.\n",
            "[Parallel(n_jobs=14)]: Done  22 tasks      | elapsed:    0.0s\n",
            "[Parallel(n_jobs=14)]: Done 172 tasks      | elapsed:    0.2s\n",
            "[Parallel(n_jobs=14)]: Done 400 out of 400 | elapsed:    0.4s finished\n"
          ]
        }
      ]
    },
    {
      "cell_type": "code",
      "source": [
        "print(\"\\nPrecision\", precision)\n",
        "print(\"Recall\", recall)\n",
        "print(\"MCC\", mcc)\n",
        "print(\"F1\", f1)"
      ],
      "metadata": {
        "colab": {
          "base_uri": "https://localhost:8080/"
        },
        "id": "R40dnpL4zX8x",
        "outputId": "307e4cf1-33fa-4456-9bc5-7ae11cfe01de"
      },
      "execution_count": null,
      "outputs": [
        {
          "output_type": "stream",
          "name": "stdout",
          "text": [
            "\n",
            "Precision 0.6197632058287796\n",
            "Recall 0.40493900624814044\n",
            "MCC 0.28403660312718826\n",
            "F1 0.4898326435126867\n"
          ]
        }
      ]
    },
    {
      "cell_type": "markdown",
      "source": [
        "Changing oversampling rate to 0.7 and 0.9 decreased the performance.\n",
        "\n",
        "When it's not mentioned n_stimator is 200, max_feature =  200"
      ],
      "metadata": {
        "id": "2L2gtyXAnjxI"
      }
    },
    {
      "cell_type": "markdown",
      "source": [
        "# Result for 2022 Data  with -1 values max feature = 400 and n_stimators = 400 with ture seld oversampling = 0.8\n",
        "\n",
        "Precision 73.6%\n",
        "\n",
        "Recall 57.4%\n",
        "\n",
        "MCC 0.397\n",
        "\n",
        "F1 64.5 %\n"
      ],
      "metadata": {
        "id": "OraRbECboH6f"
      }
    },
    {
      "cell_type": "markdown",
      "source": [
        "# Result for 2022 Data  with -1 values max feature = 200\n",
        "Precision 0.687\n",
        "\n",
        "Recall 0.58\n",
        "\n",
        "MCC 0.346\n",
        "\n",
        "F1 0.63"
      ],
      "metadata": {
        "id": "DAM3-Wh1lB3w"
      }
    },
    {
      "cell_type": "markdown",
      "source": [
        "# Result for 2022 Data  with -1 values max feature = 400\n",
        "\n",
        "Precision 68.8 %\n",
        "\n",
        "Recall 59.3 %\n",
        "\n",
        "MCC 0.35\n",
        "\n",
        "F1 63.7 %\n"
      ],
      "metadata": {
        "id": "NkxCbz1rl_R_"
      }
    },
    {
      "cell_type": "markdown",
      "source": [
        "# Result for 2022 Data  with -1 values\n",
        "\n",
        "Precision 0.67\n",
        "\n",
        "Recall 0.62\n",
        "\n",
        "MCC 0.34\n",
        "\n",
        "F1 0.64"
      ],
      "metadata": {
        "id": "RJ8tctXenGsB"
      }
    },
    {
      "cell_type": "markdown",
      "source": [
        "# Result for 2022 Data  with -1 values + feature selection + oversampling = 0.8\n",
        "\n",
        "Precision 0.67\n",
        "\n",
        "Recall 0.60\n",
        "\n",
        "MCC 0.34\n",
        "\n",
        "F1 0.64"
      ],
      "metadata": {
        "id": "kIP-tjaYkKou"
      }
    },
    {
      "cell_type": "markdown",
      "source": [
        "# Result for 2022 Data without -1 values\n",
        "\n",
        "Precision 0.5833333333333334\n",
        "\n",
        "Recall 0.5052567731500203\n",
        "\n",
        "MCC -0.12908473200139\n",
        "\n",
        "F1 0.5414951245937162\n",
        "\n",
        "R2 -1.3703152240330136"
      ],
      "metadata": {
        "id": "eO837HZVPXQi"
      }
    },
    {
      "cell_type": "markdown",
      "source": [
        "# Result for 2022 Data without -1 values with ovwersampling = 0.8\n",
        "\n",
        "Precision 0.6260652670962378\n",
        "\n",
        "Recall 0.608976951071573\n",
        "\n",
        "MCC -0.03456392484930855\n",
        "\n",
        "F1 0.6174028902326535\n",
        "\n",
        "R2 -1.0908286227115407"
      ],
      "metadata": {
        "id": "J9A1OclhQkY0"
      }
    },
    {
      "cell_type": "markdown",
      "source": [
        "# Result for 2022 Data with -1 values with ovwersampling = 0.8\n",
        "\n",
        "Precision 0.6419058893163658\n",
        "\n",
        "Recall 0.5115566037735849\n",
        "\n",
        "MCC 0.2560616622141068\n",
        "\n",
        "F1 0.5693660585378658\n",
        "\n",
        "R2 -0.4856888389001017"
      ],
      "metadata": {
        "id": "MyLwDrcGQ15w"
      }
    },
    {
      "cell_type": "markdown",
      "source": [
        "# Result for 2022 Data with -1 values with Expectation and Authur features\n",
        "\n",
        "Precision 0.6342333163525217\n",
        "\n",
        "Recall 0.5872641509433962\n",
        "\n",
        "MCC 0.2772251964195138\n",
        "\n",
        "F1 0.6098457016899339\n",
        "\n",
        "R2 -0.44267133213524046"
      ],
      "metadata": {
        "id": "m4mhLL6kf3rI"
      }
    },
    {
      "cell_type": "markdown",
      "source": [
        "# Result for 2022 Data with -1 values with Expectation and Authur features + feature selection\n",
        "\n",
        "\n",
        "Precision 0.6644245142002989\n",
        "\n",
        "Recall 0.6290094339622642\n",
        "\n",
        "MCC 0.33791977218438674\n",
        "\n",
        "F1 0.6462321298764235\n",
        "\n",
        "R2 -0.32222231319362904"
      ],
      "metadata": {
        "id": "V2KUuRv4hJHr"
      }
    },
    {
      "cell_type": "markdown",
      "source": [
        "# Result for 2022 Data with -1 values with Expectation and Authur features + feature selection + oversampling\n",
        "\n",
        "Precision 0.6743831086237598\n",
        "\n",
        "Recall 0.6252358490566038\n",
        "\n",
        "MCC 0.34939624005401393\n",
        "\n",
        "F1 0.6488801860237424\n",
        "\n",
        "R2 -0.2991287042988089"
      ],
      "metadata": {
        "id": "Ikw90qgjjZmm"
      }
    },
    {
      "cell_type": "code",
      "source": [
        "from sklearn.metrics import confusion_matrix\n",
        "import matplotlib.pyplot as plt\n",
        "\n",
        "cm = confusion_matrix(y_test, y_pred)\n",
        "\n",
        "plt.imshow(cm, interpolation='nearest', cmap='Blues')\n",
        "plt.colorbar()\n",
        "tick_marks = [0, 1]\n",
        "plt.xticks(tick_marks, [\"Non-Flaky\", \"Flaky\"], rotation=45)\n",
        "plt.yticks(tick_marks, [\"Non-Flaky\", \"Flaky\"])\n",
        "plt.xlabel('Predicted label')\n",
        "plt.ylabel('True label')\n",
        "plt.show()"
      ],
      "metadata": {
        "id": "gMG7e6u9LZ5H"
      },
      "execution_count": null,
      "outputs": []
    },
    {
      "cell_type": "markdown",
      "source": [
        "# 5-fold Cross Validation"
      ],
      "metadata": {
        "id": "4hK3083JujN0"
      }
    },
    {
      "cell_type": "code",
      "source": [
        "from sklearn.model_selection import KFold\n",
        "import numpy as np\n",
        "from sklearn.model_selection import cross_val_score\n",
        "from sklearn.pipeline import make_pipeline\n",
        "from sklearn.preprocessing import StandardScaler\n",
        "from sklearn.svm import SVC\n",
        "from sklearn.ensemble import RandomForestClassifier\n",
        "from sklearn.model_selection import StratifiedKFold\n",
        "from sklearn.metrics import accuracy_score, precision_score, recall_score, matthews_corrcoef\n",
        "\n",
        "k_folds = 5\n",
        "num_epochs = 1\n",
        "\n",
        "# For fold results\n",
        "results = {'accuracy': [],'mcc': [], 'precision': [], 'recall': []}\n",
        "\n",
        "#\n",
        "# Create an instance of Pipeline\n",
        "\n",
        "# Create an instance of StratifiedKFold which can be used to get indices of different training and test folds\n",
        "#\n",
        "strtfdKFold = StratifiedKFold(n_splits=10)\n",
        "kfold = strtfdKFold.split(X_train, y_train)\n",
        "scores = []\n",
        "#\n",
        "\n",
        "for k, (train, test) in enumerate(kfold):\n",
        "  # Fit and test\n",
        "  pipe.fit(X_train.iloc[train, :], y_train.iloc[train])\n",
        "  y_pred = pipe.predict(X_test)\n",
        "\n",
        "  # Evaluate metrics\n",
        "  accuracy = accuracy_score(y_test, y_pred)\n",
        "  mcc = matthews_corrcoef(y_test, y_pred)\n",
        "  precision = precision_score(y_test, y_pred)\n",
        "  recall = recall_score(y_test, y_pred)\n",
        "\n",
        "  # Append metrics to results dictionary\n",
        "  results['accuracy'].append(accuracy)\n",
        "  results['mcc'].append(mcc)\n",
        "  results['precision'].append(precision)\n",
        "  results['recall'].append(recall)\n",
        "\n",
        "  # score = pipe.score(X_train.iloc[test, :], y_train.iloc[test])\n",
        "  # scores.append(score)\n",
        "  # print('Fold: %2d, Training/Test Split Distribution: %s, Accuracy: %.3f' % (k+1, np.bincount(y_train.iloc[train]), score))\n",
        "\n",
        "# print('\\n\\nCross-Validation accuracy: %.3f +/- %.3f' %(np.mean(scores), np.std(scores)))"
      ],
      "metadata": {
        "id": "6RH46aZqsn5S"
      },
      "execution_count": null,
      "outputs": []
    },
    {
      "cell_type": "code",
      "source": [
        "# Calculate and print average results\n",
        "average_results = {\n",
        "    'accuracy': np.mean(results['accuracy']),\n",
        "    'mcc': np.mean(results['mcc']),\n",
        "    'precision': np.mean(results['precision']),\n",
        "    'recall': np.mean(results['recall'])\n",
        "}\n",
        "\n",
        "std_dev_results = {\n",
        "    'accuracy': np.std(results['accuracy']),\n",
        "    'mcc': np.std(results['mcc']),\n",
        "    'precision': np.std(results['precision']),\n",
        "    'recall': np.std(results['recall'])\n",
        "}\n",
        "\n",
        "print('\\n\\nCross-Validation Results:')\n",
        "for metric in average_results:\n",
        "  print(f\"{metric.capitalize()}: {average_results[metric]:.3f} +/- {std_dev_results[metric]:.3f}\")"
      ],
      "metadata": {
        "id": "m_j2qkMOTVYi"
      },
      "execution_count": null,
      "outputs": []
    },
    {
      "cell_type": "markdown",
      "source": [
        "# Window Training: train on 6 months, test on next month\n"
      ],
      "metadata": {
        "id": "XWVbtbpmqwZz"
      }
    },
    {
      "cell_type": "code",
      "source": [
        "import pandas as pd\n",
        "\n",
        "# Load your dataset (replace 'your_data.csv' with the actual file name)\n",
        "df = life_time_df\n",
        "\n",
        "# Assuming you have a date column in your dataset, convert it to a datetime object\n",
        "df['Date'] = pd.to_datetime(df['Date'])\n",
        "\n",
        "# Sort the dataset by date\n",
        "df = df.sort_values(by='Date')\n",
        "\n",
        "# Define the size of the training window (6 months) and testing window (1 month)\n",
        "train_window_size = pd.DateOffset(months=6)\n",
        "test_window_size = pd.DateOffset(months=1)\n",
        "\n",
        "# Initialize the start date for the training window\n",
        "train_start_date = df['Date'].iloc[0]\n",
        "\n",
        "precision_results = []\n",
        "recall_results = []\n",
        "mcc_results = []\n",
        "f1_results = []\n",
        "\n",
        "while True:\n",
        "    # Calculate the end date for the training window and testing window\n",
        "    train_end_date = train_start_date + train_window_size\n",
        "    test_start_date = train_end_date\n",
        "    test_end_date = test_start_date + test_window_size\n",
        "\n",
        "    # Filter the data for the training and testing window\n",
        "    train_data = df[(df['Date'] >= train_start_date) & (df['Date'] < test_start_date)]\n",
        "    test_data = df[(df['Date'] >= test_start_date) & (df['Date'] < test_end_date)]\n",
        "\n",
        "    X_train = train_data[[description_col]]\n",
        "    X_test = test_data[[description_col]]\n",
        "\n",
        "    y_train = train_data[\"label\"]\n",
        "    y_test = test_data[\"label\"]\n",
        "\n",
        "    if len(train_data) == 0 or len(test_data) == 0:\n",
        "      print(\"Training or testing data is empty. Skipping this iteration.\")\n",
        "      # Move the training window forward by one month\n",
        "      train_start_date = train_start_date + pd.DateOffset(months=1)\n",
        "      break\n",
        "\n",
        "    # Train your model on train_data and test on test_data\n",
        "    # Fit and test\n",
        "    pipe.fit(X_train, y_train)\n",
        "    y_pred = pipe.predict(X_test)\n",
        "\n",
        "    # Scores\n",
        "    precision = precision_score(y_test, y_pred)\n",
        "    recall = recall_score(y_test, y_pred)\n",
        "    mcc = matthews_corrcoef(y_test, y_pred)\n",
        "    f1 = f1_score(y_test, y_pred)\n",
        "\n",
        "    precision_results.append(precision)\n",
        "    recall_results.append(recall)\n",
        "    mcc_results.append(mcc)\n",
        "    f1_results.append(f1)\n",
        "\n",
        "\n",
        "    # Check if the next training window exceeds the last date in the dataset\n",
        "    if train_end_date >= df['Date'].iloc[-1]:\n",
        "        break\n",
        "\n",
        "    # Move the training window forward by one month\n",
        "    train_start_date = train_start_date + pd.DateOffset(months=1)\n"
      ],
      "metadata": {
        "id": "7FedRuXLqx_i"
      },
      "execution_count": null,
      "outputs": []
    },
    {
      "cell_type": "code",
      "source": [
        "print(\"Average Precision: \", sum(precision_results)/len(precision_results))\n",
        "print(\"Average Recall: \", sum(recall_results)/len(recall_results))\n",
        "print(\"Average MCC: \", sum(mcc_results)/len(mcc_results))\n",
        "print(\"Average F1: \", sum(f1_results)/len(f1_results))"
      ],
      "metadata": {
        "id": "7hGj_1YEs4Hq"
      },
      "execution_count": null,
      "outputs": []
    },
    {
      "cell_type": "code",
      "source": [
        "print(min(precision_results))\n",
        "print(max(precision_results))"
      ],
      "metadata": {
        "id": "yrRn-805ykvD"
      },
      "execution_count": null,
      "outputs": []
    },
    {
      "cell_type": "code",
      "source": [
        "print(min(mcc_results))\n",
        "print(max(mcc_results))"
      ],
      "metadata": {
        "id": "fy3nIxcK0Y0k"
      },
      "execution_count": null,
      "outputs": []
    },
    {
      "cell_type": "code",
      "source": [],
      "metadata": {
        "id": "k4kMRb-A0rzv"
      },
      "execution_count": null,
      "outputs": []
    },
    {
      "cell_type": "markdown",
      "source": [
        "# window training: Train on 3 months, test on 1 month"
      ],
      "metadata": {
        "id": "1Qqm68EZ1L8h"
      }
    },
    {
      "cell_type": "code",
      "source": [
        "import pandas as pd\n",
        "\n",
        "# Load your dataset (replace 'your_data.csv' with the actual file name)\n",
        "df = life_time_df\n",
        "\n",
        "# Assuming you have a date column in your dataset, convert it to a datetime object\n",
        "df['Date'] = pd.to_datetime(df['Date'])\n",
        "\n",
        "# Sort the dataset by date\n",
        "df = df.sort_values(by='Date')\n",
        "\n",
        "# Define the size of the training window (3 months) and testing window (1 month)\n",
        "train_window_size = pd.DateOffset(months=2)\n",
        "test_window_size = pd.DateOffset(months=1)\n",
        "\n",
        "# Initialize the start date for the training window\n",
        "train_start_date = df['Date'].iloc[0]\n",
        "\n",
        "precision_results = []\n",
        "recall_results = []\n",
        "mcc_results = []\n",
        "f1_results = []\n",
        "\n",
        "while True:\n",
        "    # Calculate the end date for the training window and testing window\n",
        "    train_end_date = train_start_date + train_window_size\n",
        "    test_start_date = train_end_date\n",
        "    test_end_date = test_start_date + test_window_size\n",
        "\n",
        "    # Filter the data for the training and testing window\n",
        "    train_data = df[(df['Date'] >= train_start_date) & (df['Date'] < test_start_date)]\n",
        "    test_data = df[(df['Date'] >= test_start_date) & (df['Date'] < test_end_date)]\n",
        "\n",
        "    X_train = train_data[[description_col]]\n",
        "    X_test = test_data[[description_col]]\n",
        "\n",
        "    y_train = train_data[\"label\"]\n",
        "    y_test = test_data[\"label\"]\n",
        "\n",
        "    if len(train_data) == 0 or len(test_data) == 0:\n",
        "      print(\"Training or testing data is empty. Skipping this iteration.\")\n",
        "      # Move the training window forward by one month\n",
        "      train_start_date = train_start_date + pd.DateOffset(months=1)\n",
        "      break\n",
        "\n",
        "    # Train your model on train_data and test on test_data\n",
        "    # Fit and test\n",
        "    pipe.fit(X_train, y_train)\n",
        "    y_pred = pipe.predict(X_test)\n",
        "\n",
        "    # Scores\n",
        "    precision = precision_score(y_test, y_pred)\n",
        "    recall = recall_score(y_test, y_pred)\n",
        "    mcc = matthews_corrcoef(y_test, y_pred)\n",
        "    f1 = f1_score(y_test, y_pred)\n",
        "\n",
        "    precision_results.append(precision)\n",
        "    recall_results.append(recall)\n",
        "    mcc_results.append(mcc)\n",
        "    f1_results.append(f1)\n",
        "\n",
        "\n",
        "    # Check if the next training window exceeds the last date in the dataset\n",
        "    if train_end_date >= df['Date'].iloc[-1]:\n",
        "        break\n",
        "\n",
        "    # Move the training window forward by one month\n",
        "    train_start_date = train_start_date + pd.DateOffset(months=1)\n"
      ],
      "metadata": {
        "id": "C4cAuPDs1Mie"
      },
      "execution_count": null,
      "outputs": []
    },
    {
      "cell_type": "code",
      "source": [
        "print(\"Average Precision: \", sum(precision_results)/len(precision_results))\n",
        "print(\"Average Recall: \", sum(recall_results)/len(recall_results))\n",
        "print(\"Average MCC: \", sum(mcc_results)/len(mcc_results))\n",
        "print(\"Average F1: \", sum(f1_results)/len(f1_results))"
      ],
      "metadata": {
        "id": "aK28toIl1Zap"
      },
      "execution_count": null,
      "outputs": []
    },
    {
      "cell_type": "code",
      "source": [
        "print(min(precision_results))\n",
        "print(max(precision_results))"
      ],
      "metadata": {
        "id": "qxWTd1B22fAb"
      },
      "execution_count": null,
      "outputs": []
    }
  ]
}